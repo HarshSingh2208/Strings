{
 "cells": [
  {
   "cell_type": "markdown",
   "id": "1a305052",
   "metadata": {},
   "source": [
    "Repalce Characters in Strings"
   ]
  },
  {
   "cell_type": "code",
   "execution_count": 1,
   "id": "e987f005",
   "metadata": {},
   "outputs": [
    {
     "name": "stdout",
     "output_type": "stream",
     "text": [
      "eeeebbbcccdddeee\n"
     ]
    }
   ],
   "source": [
    "def replaceChString(str,char1,char2):\n",
    "    newStr=\"\"\n",
    "    for char in str:\n",
    "        if(char==char1):\n",
    "            newStr+=char2\n",
    "        else:\n",
    "            newStr+=char\n",
    "    return newStr\n",
    "\n",
    "str=\"aaaabbbcccdddeee\"\n",
    "result=replaceChString(str,'a','e')\n",
    "print(result)"
   ]
  },
  {
   "cell_type": "markdown",
   "id": "352a5307",
   "metadata": {},
   "source": [
    "Count Vowels, Consonats, Digits and Special Characters in String"
   ]
  },
  {
   "cell_type": "code",
   "execution_count": 1,
   "id": "34ff3039",
   "metadata": {},
   "outputs": [
    {
     "name": "stdout",
     "output_type": "stream",
     "text": [
      "6 7 7 3\n"
     ]
    }
   ],
   "source": [
    "def countItems(str):\n",
    "    v=0\n",
    "    c=0\n",
    "    d=0\n",
    "    s=0\n",
    "    for i in range(0,len(str)):\n",
    "        if (str[i]>='a' and str[i]<='z')  or (str[i]>='A' and str[i]<='Z'):\n",
    "            x=str[i].lower()\n",
    "            if(x=='a' or x=='e' or x=='i' or x=='o' or x==\"u\" ):\n",
    "                v+=1\n",
    "            else:\n",
    "                c+=1\n",
    "        elif (str[i]>='0' and str[i]<='9'):\n",
    "            d+=1\n",
    "        else:\n",
    "            s+=1\n",
    "    return v,c,d,s\n",
    "\n",
    "str='abdfaahfiuf121385^^\\afa1'\n",
    "v,c,d,s=countItems(str)\n",
    "print(v,c,d,s)\n",
    "        "
   ]
  },
  {
   "cell_type": "markdown",
   "id": "d31d168a",
   "metadata": {},
   "source": [
    "Check Permutation"
   ]
  },
  {
   "cell_type": "code",
   "execution_count": 8,
   "id": "4ca7a75e",
   "metadata": {},
   "outputs": [
    {
     "name": "stdout",
     "output_type": "stream",
     "text": [
      "True\n"
     ]
    }
   ],
   "source": [
    "def CheckPermutation(str1,str2):\n",
    "    x = ''.join(sorted(str1))\n",
    "    y = ''.join(sorted(str2))\n",
    "    if x==y:\n",
    "        return True\n",
    "    else:\n",
    "        return False\n",
    "\n",
    "str1= \"sinrtg\" \n",
    "str2= \"string\"\n",
    "result=CheckPermutation(str1,str2)\n",
    "print(result)"
   ]
  },
  {
   "cell_type": "markdown",
   "id": "d94379d3",
   "metadata": {},
   "source": [
    "Remove Consecutive Duplicates"
   ]
  },
  {
   "cell_type": "code",
   "execution_count": 4,
   "id": "673e65ca",
   "metadata": {},
   "outputs": [
    {
     "name": "stdout",
     "output_type": "stream",
     "text": [
      "abcdefgh\n"
     ]
    }
   ],
   "source": [
    "def consecutive(str):\n",
    "    result=\"\"\n",
    "    startIndex=0\n",
    "    while startIndex<len(str):\n",
    "        uniquechar=str[startIndex]\n",
    "        nextuniqueIndex=startIndex+1\n",
    "        \n",
    "        while(nextuniqueIndex<len(str) and uniquechar==str[nextuniqueIndex]):\n",
    "            nextuniqueIndex+=1\n",
    "        \n",
    "        result+=uniquechar\n",
    "        startIndex=nextuniqueIndex\n",
    "    return result\n",
    "        \n",
    "str1= \"aaabbbcdddeefgh\" \n",
    "result=consecutive(str1)\n",
    "print(result)"
   ]
  },
  {
   "cell_type": "markdown",
   "id": "49c5d713",
   "metadata": {},
   "source": [
    "Remove Character"
   ]
  },
  {
   "cell_type": "code",
   "execution_count": 6,
   "id": "ffbe8069",
   "metadata": {},
   "outputs": [
    {
     "name": "stdout",
     "output_type": "stream",
     "text": [
      "bsujdnbdmdj\n"
     ]
    }
   ],
   "source": [
    "def removeChr(str,a):\n",
    "    newStr=\"\"\n",
    "    for char in str:\n",
    "        if(char!=a):\n",
    "            newStr+=char\n",
    "            \n",
    "    return newStr\n",
    "            \n",
    "str1= \"absujdnabdmdj\" \n",
    "result=removeChr(str1,'a')\n",
    "print(result)"
   ]
  },
  {
   "cell_type": "markdown",
   "id": "511bbf13",
   "metadata": {},
   "source": [
    "Reverse Each Word"
   ]
  },
  {
   "cell_type": "code",
   "execution_count": 21,
   "id": "2889da26",
   "metadata": {},
   "outputs": [
    {
     "name": "stdout",
     "output_type": "stream",
     "text": [
      "ym eman si hsrah hgniS\n"
     ]
    }
   ],
   "source": [
    "def reverse(str):\n",
    "    reverse=\"\"\n",
    "    for i in range(len(str)-1,-1,-1):\n",
    "        reverse+=str[i]\n",
    "    return reverse\n",
    "           \n",
    "def ReverseEachWord(str):\n",
    "    start=0\n",
    "    end=0\n",
    "    newStr=\"\"\n",
    "    length=len(str)-1\n",
    "    while end<=length:\n",
    "        if(str[end]!=' '):\n",
    "            end=end+1\n",
    "        elif(str[end]==' '):\n",
    "            mid=reverse(str[start:end])\n",
    "            newStr+=mid\n",
    "            newStr+=' '\n",
    "            start=end+1\n",
    "            end=start+1\n",
    "            \n",
    "    mid=mid=reverse(str[start:end])\n",
    "    newStr+=mid\n",
    "    \n",
    "    return newStr\n",
    "            \n",
    "str1= \"my name is harsh Singh\" \n",
    "result=ReverseEachWord(str1)\n",
    "print(result)"
   ]
  },
  {
   "cell_type": "markdown",
   "id": "15dbf507",
   "metadata": {},
   "source": [
    "Highest Occuring Frequency String"
   ]
  },
  {
   "cell_type": "code",
   "execution_count": 26,
   "id": "c9f004de",
   "metadata": {},
   "outputs": [
    {
     "name": "stdout",
     "output_type": "stream",
     "text": [
      "d\n"
     ]
    }
   ],
   "source": [
    "def HighestOccuringFrequencyString(str):\n",
    "    frequency=[0]*256\n",
    "    max_frequency=0\n",
    "    \n",
    "    for i in range(len(str)):\n",
    "        frequency[ord(str[i])]+=1\n",
    "        max_frequency=max(max_frequency,frequency[ord(str[i])])\n",
    "        \n",
    "    for i in range(len(str)):\n",
    "        if max_frequency==frequency[ord(str[i])]:\n",
    "            ans=str[i]\n",
    "    \n",
    "    print(ans)\n",
    "str1= \"aabbbcccdddd\" \n",
    "HighestOccuringFrequencyString(str1)"
   ]
  },
  {
   "cell_type": "markdown",
   "id": "854f05c1",
   "metadata": {},
   "source": [
    "Compress the String"
   ]
  },
  {
   "cell_type": "code",
   "execution_count": 1,
   "id": "b950f033",
   "metadata": {},
   "outputs": [
    {
     "name": "stdout",
     "output_type": "stream",
     "text": [
      "a2b3c3d4e\n"
     ]
    }
   ],
   "source": [
    "def CompressString(string):\n",
    "    \n",
    "    answer=\"\"\n",
    "    n=len(string)\n",
    "    \n",
    "    answer+=string[0]\n",
    "    Chr_count=1\n",
    "    \n",
    "    i=1\n",
    "    while i<n:\n",
    "        if(string[i-1]==string[i]):\n",
    "            Chr_count+=1\n",
    "        elif(string[i-1]!=string[i] and Chr_count>1):\n",
    "            answer=answer+str(Chr_count)\n",
    "            answer+=string[i]\n",
    "            Chr_count=1\n",
    "        elif(string[i-1]!=string[i] and Chr_count==1):\n",
    "            answer+=string[i]\n",
    "            Chr_count=1\n",
    "        i=i+1\n",
    "    if(Chr_count>1):\n",
    "            answer=answer+str(Chr_count)\n",
    "    return answer \n",
    "\n",
    "string= \"aabbbcccdddde\" \n",
    "result=CompressString(string)\n",
    "print(result)"
   ]
  },
  {
   "cell_type": "code",
   "execution_count": null,
   "id": "d0df0cef",
   "metadata": {},
   "outputs": [],
   "source": []
  }
 ],
 "metadata": {
  "kernelspec": {
   "display_name": "Python 3",
   "language": "python",
   "name": "python3"
  },
  "language_info": {
   "codemirror_mode": {
    "name": "ipython",
    "version": 3
   },
   "file_extension": ".py",
   "mimetype": "text/x-python",
   "name": "python",
   "nbconvert_exporter": "python",
   "pygments_lexer": "ipython3",
   "version": "3.7.7"
  }
 },
 "nbformat": 4,
 "nbformat_minor": 5
}
